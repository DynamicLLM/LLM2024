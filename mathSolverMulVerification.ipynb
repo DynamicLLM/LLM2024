{
  "nbformat": 4,
  "nbformat_minor": 0,
  "metadata": {
    "colab": {
      "provenance": [],
      "authorship_tag": "ABX9TyMIR28pOmrGQy+SgwQkzLfB",
      "include_colab_link": true
    },
    "kernelspec": {
      "name": "python3",
      "display_name": "Python 3"
    },
    "language_info": {
      "name": "python"
    }
  },
  "cells": [
    {
      "cell_type": "markdown",
      "metadata": {
        "id": "view-in-github",
        "colab_type": "text"
      },
      "source": [
        "<a href=\"https://colab.research.google.com/github/DynamicLLM/LLM2024/blob/main/mathSolverMulVerification.ipynb\" target=\"_parent\"><img src=\"https://colab.research.google.com/assets/colab-badge.svg\" alt=\"Open In Colab\"/></a>"
      ]
    },
    {
      "cell_type": "markdown",
      "source": [
        "Description:\n",
        "This program is an interactive math-solving tool that uses OpenAI's GPT to solve and verify mathematical problems. The program guides the user through the problem-solving process step by step and provides a verification mechanism. Users can select from suggested verification methods, such as graphical solutions, numerical solutions, substitution verification, or mathematical theorems, to confirm the accuracy of the solution. This makes the tool highly adaptable to various types of mathematical problems.\n",
        "\n",
        "Instructions to Use:\n",
        "1. Run the program and input a math question when prompted (e.g., \"how can I solve 8x + 7 = -23\").\n",
        "2. Review the list of suggested verification methods and select one or more by entering their corresponding numbers. If no method is selected, the program will default to \"Substitution verification.\"\n",
        "3. The program will call GPT to solve the question and display the solution steps along with the final answer.\n",
        "4. It will then verify the solution using the chosen methods and output the verification result.\n",
        "5. Review the verification result to confirm the solution's correctness.\n"
      ],
      "metadata": {
        "id": "JAwhLTqyVXpu"
      }
    },
    {
      "cell_type": "code",
      "execution_count": 8,
      "metadata": {
        "id": "MOe5hj9LGPOT"
      },
      "outputs": [],
      "source": [
        "from pydantic import BaseModel\n",
        "from openai import OpenAI\n",
        "\n",
        "class Step(BaseModel):\n",
        "    explanation: str\n",
        "    output: str\n",
        "\n",
        "class MathReasoning(BaseModel):\n",
        "    steps: list[Step]\n",
        "    final_answer: str\n",
        "\n",
        "# Initialize OpenAI client\n",
        "client = OpenAI(api_key=\"sbvhCp4tqdcwA\")\n"
      ]
    },
    {
      "cell_type": "code",
      "source": [
        "\n",
        "def solve_math_question():\n",
        "    def suggest_verification_method(question):\n",
        "        return [\n",
        "            \"Graphical solution\",\n",
        "            \"Numerical solution\",\n",
        "            \"Substitution verification\",\n",
        "            \"Mathematical theorems\"\n",
        "        ]\n",
        "\n",
        "    # Step 1: Ask the user to input a math question\n",
        "    math_question = input(\"Enter a math question (e.g., how can I solve 8x + 7 = -23): \")\n",
        "\n",
        "    # Step 2: Ask the user to input a verifying method\n",
        "    suggested_methods = suggest_verification_method(math_question)\n",
        "    print(\"Suggested Verification Methods:\")\n",
        "    for i, method in enumerate(suggested_methods, 1):\n",
        "        print(f\"{i}. {method}\")\n",
        "\n",
        "    selected_methods = input(\"Select verification methods by entering the corresponding numbers (e.g., 1, 3): \")\n",
        "    selected_methods_indices = [int(num.strip()) - 1 for num in selected_methods.split(\",\") if num.strip().isdigit()]\n",
        "    verifying_methods = [suggested_methods[i] for i in selected_methods_indices if 0 <= i < len(suggested_methods)]\n",
        "\n",
        "    if not verifying_methods:\n",
        "        verifying_methods = [\"Substitution verification\"]  # Default method if none selected\n",
        "\n",
        "    verifying_method = \", \".join(verifying_methods)\n",
        "\n",
        "    # Step 3: Solve the math question using OpenAI\n",
        "    completion = client.beta.chat.completions.parse(\n",
        "        model=\"gpt-4o-mini\",\n",
        "        messages=[\n",
        "            {\"role\": \"system\", \"content\": \"You are a helpful math tutor. Guide the user through the solution step by step.\"},\n",
        "            {\"role\": \"user\", \"content\": math_question},\n",
        "        ],\n",
        "        response_format=MathReasoning,\n",
        "    )\n",
        "\n",
        "    # Parse the response\n",
        "    math_reasoning = completion.choices[0].message.parsed\n",
        "\n",
        "    # Step 4: Output the math reasoning steps\n",
        "    print(\"\\nMath Reasoning Steps:\")\n",
        "    for step in math_reasoning.steps:\n",
        "        print(f\"Explanation: {step.explanation}\")\n",
        "        print(f\"Output: {step.output}\\n\")\n",
        "\n",
        "    # Step 5: Output the final answer\n",
        "    final_answer = math_reasoning.final_answer\n",
        "    print(f\"Final Answer: {final_answer}\\n\")\n",
        "\n",
        "    # Step 6: Verify the result using GPT\n",
        "    print(\"Now let's verify the solution.\")\n",
        "    verification_prompt = (\n",
        "        f\"Verify the solution to the question '{math_question}' using {verifying_method}, but without repeating solving the problem again. \"\n",
        "        f\"The final answer provided was {final_answer}. \"\n",
        "        \"Confirm whether the solution is correct.\"\n",
        "    )\n",
        "    print(\"verification_prompt\", verification_prompt)\n",
        "    verification_completion = client.chat.completions.create(\n",
        "        model=\"gpt-4o-mini\",\n",
        "        messages=[\n",
        "            {\"role\": \"system\", \"content\": \"You are a math verification assistant. Confirm if the solution is correct.\"},\n",
        "            {\"role\": \"user\", \"content\": verification_prompt},\n",
        "        ]\n",
        "    )\n",
        "\n",
        "    verification_response = verification_completion.choices[0].message.content\n",
        "    print(\"Verification Result:\")\n",
        "    print(verification_response)\n",
        "\n",
        "# Run the program interactively\n",
        "if __name__ == \"__main__\":\n",
        "    solve_math_question()\n"
      ],
      "metadata": {
        "colab": {
          "base_uri": "https://localhost:8080/"
        },
        "id": "Z8G_XkZZSmeF",
        "outputId": "ff04e71f-c8d6-48e1-8c80-8e03575d275f"
      },
      "execution_count": 23,
      "outputs": [
        {
          "output_type": "stream",
          "name": "stdout",
          "text": [
            "Enter a math question (e.g., how can I solve 8x + 7 = -23): 8+x=0\n",
            "Suggested Verification Methods:\n",
            "1. Graphical solution\n",
            "2. Numerical solution\n",
            "3. Substitution verification\n",
            "4. Mathematical theorems\n",
            "Select verification methods by entering the corresponding numbers (e.g., 1, 3): 1,4\n",
            "\n",
            "Math Reasoning Steps:\n",
            "Explanation: To isolate the variable x, we need to get rid of 8 from the left side of the equation. We can do this by subtracting 8 from both sides.\n",
            "Output: x = 0 - 8\n",
            "\n",
            "Explanation: Now we simplify the right side of the equation. 0 - 8 is -8.\n",
            "Output: x = -8\n",
            "\n",
            "Final Answer: x = -8\n",
            "\n",
            "Now let's verify the solution.\n",
            "verification_prompt Verify the solution to the question '8+x=0' using Graphical solution, Mathematical theorems, but withour repeating solving the problem again. The final answer provided was x = -8. Confirm whether the solution is correct.\n",
            "Verification Result:\n",
            "To verify the solution of the equation \\(8 + x = 0\\) graphically and mathematically without re-solving, we can proceed as follows:\n",
            "\n",
            "1. **Graphical Solution:**\n",
            "   - The equation \\(8 + x = 0\\) can be rewritten as \\(x = -8\\).\n",
            "   - Graphically, this can be represented as a horizontal line \\(y = 8 + x\\) which would intersect the x-axis at the point where \\(y = 0\\).\n",
            "   - At the intersection point \\(x = -8\\), we find that indeed \\(y = 0\\) when \\(x = -8\\). This confirms that the graphical solution indicates \\(x = -8\\) is correct.\n",
            "\n",
            "2. **Mathematical Verification:**\n",
            "   - Starting from the original equation \\(8 + x = 0\\):\n",
            "     - To isolate \\(x\\), we can subtract 8 from both sides:\n",
            "       \\[\n",
            "       x = -8\n",
            "       \\]\n",
            "   - This manipulation confirms that \\(x = -8\\) is the correct solution as it satisfies the original equation.\n",
            "\n",
            "Thus, both the graphical representation and the mathematical manipulation confirm that the solution \\(x = -8\\) is correct.\n"
          ]
        }
      ]
    }
  ]
}