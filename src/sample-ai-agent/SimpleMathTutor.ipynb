{
  "nbformat": 4,
  "nbformat_minor": 0,
  "metadata": {
    "colab": {
      "provenance": [],
      "authorship_tag": "ABX9TyMExrrHplQU7okJ3Z9rx8mu",
      "include_colab_link": true
    },
    "kernelspec": {
      "name": "python3",
      "display_name": "Python 3"
    },
    "language_info": {
      "name": "python"
    }
  },
  "cells": [
    {
      "cell_type": "markdown",
      "metadata": {
        "id": "view-in-github",
        "colab_type": "text"
      },
      "source": [
        "<a href=\"https://colab.research.google.com/github/DynamicLLM/LLM2024/blob/main/src/sample-ai-agent/SimpleMathTutor.ipynb\" target=\"_parent\"><img src=\"https://colab.research.google.com/assets/colab-badge.svg\" alt=\"Open In Colab\"/></a>"
      ]
    },
    {
      "cell_type": "markdown",
      "source": [
        "This program is an interactive math-solving tool designed to assist users in solving algebraic equations step-by-step with the help of OpenAI's GPT. Users begin by entering a math question and a verification method, such as substituting the solution back into the equation. The program uses GPT to generate a detailed explanation of the solution and then verifies the correctness of the final answer by calling GPT again. The output includes reasoning steps, the final answer, and the verification result. To use the program, ensure you have an OpenAI API key and a properly configured environment. Possible extensions include adding support for other types of math problems (e.g., calculus or geometry), enabling graphical representations of solutions, and providing feedback on user-defined verifying methods."
      ],
      "metadata": {
        "id": "RZcfSxZzzX51"
      }
    },
    {
      "cell_type": "code",
      "source": [
        "from pydantic import BaseModel\n",
        "from openai import OpenAI\n",
        "\n",
        "class Step(BaseModel):\n",
        "    explanation: str\n",
        "    output: str\n",
        "\n",
        "class MathReasoning(BaseModel):\n",
        "    steps: list[Step]\n",
        "    final_answer: str\n",
        "\n",
        "# Initialize OpenAI client\n",
        "client = OpenAI(api_key=\"your openai API key\")\n",
        "\n",
        "def solve_math_question():\n",
        "    # Step 1: Ask the user to input a math question\n",
        "    math_question = input(\"Enter a math question (e.g., how can I solve 8x + 7 = -23): \")\n",
        "\n",
        "    # Step 2: Ask the user to input a verifying method\n",
        "    verifying_method = input(\"Enter a verifying method (e.g., substitute your final answer into both sides of the equation): \")\n",
        "\n",
        "    # Step 3: Solve the math question using OpenAI\n",
        "    completion = client.beta.chat.completions.parse(\n",
        "        model=\"gpt-4o-mini\",\n",
        "        messages=[\n",
        "            {\"role\": \"system\", \"content\": \"You are a helpful math tutor. Guide the user through the solution step by step.\"},\n",
        "            {\"role\": \"user\", \"content\": math_question},\n",
        "        ],\n",
        "        response_format=MathReasoning,\n",
        "    )\n",
        "\n",
        "    # Parse the response\n",
        "    math_reasoning = completion.choices[0].message.parsed\n",
        "\n",
        "    # Step 4: Output the math reasoning steps\n",
        "    print(\"\\nMath Reasoning Steps:\")\n",
        "    for step in math_reasoning.steps:\n",
        "        print(f\"Explanation: {step.explanation}\")\n",
        "        print(f\"Output: {step.output}\\n\")\n",
        "\n",
        "    # Step 5: Output the final answer\n",
        "    final_answer = math_reasoning.final_answer\n",
        "    print(f\"Final Answer: {final_answer}\\n\")\n",
        "\n",
        "    # Step 6: Verify the result using GPT\n",
        "    print(\"Now let's verify the solution.\")\n",
        "    verification_prompt = (\n",
        "        f\"Verify the solution to the question '{math_question}'. \"\n",
        "        f\"The final answer provided was {final_answer}. {verifying_method}. \"\n",
        "        \"Confirm whether the solution is correct.\"\n",
        "    )\n",
        "\n",
        "    verification_completion = client.chat.completions.create(\n",
        "        model=\"gpt-4o-mini\",\n",
        "        messages=[\n",
        "            {\"role\": \"system\", \"content\": \"You are a math verification assistant. Confirm if the solution is correct.\"},\n",
        "            {\"role\": \"user\", \"content\": verification_prompt},\n",
        "        ]\n",
        "    )\n",
        "\n",
        "    verification_response = verification_completion.choices[0].message.content\n",
        "    print(\"Verification Result:\")\n",
        "    print(verification_response)\n",
        "\n",
        "# Run the program interactively\n",
        "if __name__ == \"__main__\":\n",
        "    solve_math_question()\n"
      ],
      "metadata": {
        "colab": {
          "base_uri": "https://localhost:8080/"
        },
        "id": "QlZ9D1BAvzQf",
        "outputId": "5526a512-2205-44b4-83d7-644c6dbe280f"
      },
      "execution_count": 12,
      "outputs": [
        {
          "output_type": "stream",
          "name": "stdout",
          "text": [
            "Enter a math question (e.g., how can I solve 8x + 7 = -23): 8x + 7 = -23\n",
            "Enter a verifying method (e.g., substitute your final answer into both sides of the equation): substitute your final answer into both sides of the equation\n",
            "\n",
            "Math Reasoning Steps:\n",
            "Explanation: To solve the equation 8x + 7 = -23, we first want to isolate the term with x. We can do this by subtracting 7 from both sides of the equation.\n",
            "Output: 8x + 7 - 7 = -23 - 7\n",
            "\n",
            "Explanation: Now, simplifying both sides gives us 8x = -30.\n",
            "Output: 8x = -30\n",
            "\n",
            "Explanation: Next, to solve for x, we need to divide both sides of the equation by 8.\n",
            "Output: x = -30 / 8\n",
            "\n",
            "Explanation: We can simplify -30 / 8 by dividing both the numerator and denominator by 2.\n",
            "Output: x = -15 / 4\n",
            "\n",
            "Explanation: Thus, the value of x can be expressed as a mixed number: -15/4 is equal to -3.75.\n",
            "Output: x = -3.75\n",
            "\n",
            "Final Answer: x = -3.75\n",
            "\n",
            "Now let's verify the solution.\n",
            "Verification Result:\n",
            "To verify the solution, we will substitute \\( x = -3.75 \\) into the equation \\( 8x + 7 = -23 \\).\n",
            "\n",
            "1. Substitute \\( x = -3.75 \\) into the left side of the equation:\n",
            "   \\[\n",
            "   8(-3.75) + 7\n",
            "   \\]\n",
            "   Calculate \\( 8 \\times -3.75 \\):\n",
            "   \\[\n",
            "   8(-3.75) = -30\n",
            "   \\]\n",
            "   Now add 7:\n",
            "   \\[\n",
            "   -30 + 7 = -23\n",
            "   \\]\n",
            "\n",
            "2. The left side evaluates to:\n",
            "   \\[\n",
            "   -23\n",
            "   \\]\n",
            "\n",
            "3. The right side of the equation is:\n",
            "   \\[\n",
            "   -23\n",
            "   \\]\n",
            "\n",
            "Since both sides of the equation are equal, the solution \\( x = -3.75 \\) is indeed correct. \n",
            "\n",
            "Thus, the final answer is verified as correct.\n"
          ]
        }
      ]
    }
  ]
}