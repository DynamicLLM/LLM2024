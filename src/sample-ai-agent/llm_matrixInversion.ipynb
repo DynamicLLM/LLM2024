{
  "nbformat": 4,
  "nbformat_minor": 0,
  "metadata": {
    "colab": {
      "provenance": [],
      "authorship_tag": "ABX9TyOPJP3zi5UhfF3dsgZ8bSkK",
      "include_colab_link": true
    },
    "kernelspec": {
      "name": "python3",
      "display_name": "Python 3"
    },
    "language_info": {
      "name": "python"
    }
  },
  "cells": [
    {
      "cell_type": "markdown",
      "metadata": {
        "id": "view-in-github",
        "colab_type": "text"
      },
      "source": [
        "<a href=\"https://colab.research.google.com/github/DynamicLLM/LLM2024/blob/main/src/sample-ai-agent/llm_matrixInversion.ipynb\" target=\"_parent\"><img src=\"https://colab.research.google.com/assets/colab-badge.svg\" alt=\"Open In Colab\"/></a>"
      ]
    },
    {
      "cell_type": "markdown",
      "source": [
        "This simple example illustrates how you can integrate an LLM into a Python-based workflow to perform a mathematical task (matrix inversion) and then verify it with traditional computational methods. It also demonstrates how to prompt, parse, and validate LLM outputs, which is key to building robust AI applications.  Feel free to expand with additional logic, user interactions, or more sophisticated matrix problems."
      ],
      "metadata": {
        "id": "MPDExP6SbP69"
      }
    },
    {
      "cell_type": "markdown",
      "source": [
        "Creating and Using Your OpenAI API Key:\n",
        "\n",
        "To do this head to the OpenAI API Dashboard and create/login to an account. (https://platform.openai.com/assistants).\n",
        "After logging into an account, on the left side of the dashboard select ‘API Keys’.\n",
        "Next, click ‘Create new secret key’ in the top right corner of the page, from here you can create a name for your key, the project it is used for (if you have multiple keys and projects), and decide the permissions.\n",
        "After deciding the settings for your key, click ‘Create secret key’ in the bottom right of the menu.\n",
        "This will show your given key, make sure to copy your key and save it in a place of your choosing for later. This will be the only time you can access it. Afterwords, select ‘Done.’   \n",
        "\n",
        "You have to add at least 5 dollars to your account. In most case you probably use only less than dollar in the whole semester."
      ],
      "metadata": {
        "id": "dfdNUFkXO8bZ"
      }
    },
    {
      "cell_type": "code",
      "source": [
        "!pip install openai requests -q\n"
      ],
      "metadata": {
        "id": "M8nDyY-4PW8A"
      },
      "execution_count": 58,
      "outputs": []
    },
    {
      "cell_type": "code",
      "source": [
        "import openai\n",
        "import ast  # for safely evaluating Pythonic list representations (optional)\n",
        "import numpy as np  # to make matrix multiplication easier (optional)\n",
        "import json\n",
        "from openai import OpenAI\n",
        "\n",
        "client = OpenAI(\n",
        "    #replace your openai API key. make sure keep the key in a safe place,  colab and github do not save your jpynb file with the actual key.\n",
        "    api_key=\"sk-proj-spiYK_**\"\n",
        ")"
      ],
      "metadata": {
        "id": "Y-09KHsJPiPo"
      },
      "execution_count": 17,
      "outputs": []
    },
    {
      "cell_type": "code",
      "source": [
        "\n",
        "\n",
        "\n",
        "# Define a JSON schema for the function\n",
        "functions = [\n",
        "    {\n",
        "        \"name\": \"invert_matrix\",\n",
        "        \"description\": \"Return the inverse of a 2x2 matrix in the 'inverted_matrix' field.\",\n",
        "        \"parameters\": {\n",
        "            \"type\": \"object\",\n",
        "            \"properties\": {\n",
        "                \"inverted_matrix\": {\n",
        "                    \"type\": \"array\",\n",
        "                    \"items\": {\n",
        "                        \"type\": \"array\",\n",
        "                        \"items\": {\"type\": \"number\"}\n",
        "                    },\n",
        "                    \"description\": \"A 2D array (list of lists) representing the inverted matrix\"\n",
        "                }\n",
        "            },\n",
        "            \"required\": [\"inverted_matrix\"]\n",
        "        }\n",
        "    }\n",
        "]\n"
      ],
      "metadata": {
        "id": "Y3MV43btUQmo"
      },
      "execution_count": 23,
      "outputs": []
    },
    {
      "cell_type": "code",
      "source": [
        "def get_inverted_matrix_2x2(matrix_2x2):\n",
        "    user_message = (\n",
        "        f\"Please invert the following 2x2 matrix: {matrix_2x2}. \"\n",
        "        \"Return only a JSON object that calls the function `invert_matrix` \"\n",
        "        \"with the key `inverted_matrix` as a 2D array.\"\n",
        "    )\n",
        "\n",
        "    response = client.chat.completions.create(\n",
        "        model=\"gpt-4o-mini\",\n",
        "        messages=[\n",
        "            {\"role\": \"user\", \"content\": user_message}\n",
        "        ],\n",
        "        functions=functions,\n",
        "        function_call=\"auto\"\n",
        "        # ^ \"auto\" means the LLM can choose to call or not call the function\n",
        "        #   \"force\" means we *force* it to call 'invert_matrix'\n",
        "    )\n",
        "\n",
        "    # The LLM will likely produce a special JSON payload referencing our function:\n",
        "    # response.choices[0].message[\"function_call\"] might look like:\n",
        "    # {\n",
        "    #   \"name\": \"invert_matrix\",\n",
        "    #   \"arguments\": \"{\\\"inverted_matrix\\\": [[0.6, -0.7], [-0.2, 0.4]]}\"\n",
        "    # }\n",
        "\n",
        "    message = response.choices[0].message\n",
        "\n",
        "    # Use attribute access instead of message.get(...)\n",
        "    if message.function_call is not None:\n",
        "        name = message.function_call.name\n",
        "        arguments_str = message.function_call.arguments\n",
        "        # parse the JSON string\n",
        "        arguments = json.loads(arguments_str)\n",
        "        return arguments[\"inverted_matrix\"]  # e.g. [[0.6, -0.7], [-0.2, 0.4]]\n",
        "    else:\n",
        "        return None\n",
        "\n",
        "\n"
      ],
      "metadata": {
        "id": "r5VzinKua8Up"
      },
      "execution_count": 24,
      "outputs": []
    },
    {
      "cell_type": "code",
      "source": [
        "def verify_inversion(original_matrix, candidate_inverse, tolerance=1e-7):\n",
        "    \"\"\"\n",
        "    Verify if candidate_inverse is indeed the inverse of original_matrix.\n",
        "\n",
        "    Args:\n",
        "        original_matrix (list[list[float]]): 2x2 matrix\n",
        "        candidate_inverse (list[list[float]]): 2x2 matrix (candidate inverse)\n",
        "        tolerance (float): numerical tolerance for identity check.\n",
        "\n",
        "    Returns:\n",
        "        bool: True if product is approximately the identity matrix, False otherwise.\n",
        "    \"\"\"\n",
        "    # Convert to numpy arrays\n",
        "    A = np.array(original_matrix, dtype=float)\n",
        "    A_inv_candidate = np.array(candidate_inverse, dtype=float)\n",
        "\n",
        "    # Matrix multiply\n",
        "    product = A.dot(A_inv_candidate)\n",
        "\n",
        "    # Identity matrix\n",
        "    I = np.eye(2)\n",
        "\n",
        "    # Check if difference from the identity is within tolerance\n",
        "    return np.allclose(product, I, atol=tolerance)\n"
      ],
      "metadata": {
        "id": "5E1-kMu_Pukp"
      },
      "execution_count": 25,
      "outputs": []
    },
    {
      "cell_type": "code",
      "source": [
        "# Define a sample 2x2 matrix\n",
        "matrix_2x2 = [[4, 7],\n",
        "              [2, 6]]\n",
        "\n",
        "# 1) LLM: Invert the matrix\n",
        "inverted_candidate = get_inverted_matrix_2x2(matrix_2x2)\n",
        "print(\"LLM's claimed inverse:\", inverted_candidate)\n",
        "\n",
        "# 2) Verify the candidate inverse\n",
        "if inverted_candidate is not None:\n",
        "    is_correct = verify_inversion(matrix_2x2, inverted_candidate)\n",
        "    if is_correct:\n",
        "        print(\"✅ The LLM's inverse is correct!\")\n",
        "    else:\n",
        "        print(\"❌ The LLM's inverse is NOT correct.\")\n"
      ],
      "metadata": {
        "colab": {
          "base_uri": "https://localhost:8080/"
        },
        "id": "z41HIAbiP0co",
        "outputId": "670cccdd-e299-4ec2-b652-e33c14f3b669"
      },
      "execution_count": 26,
      "outputs": [
        {
          "output_type": "stream",
          "name": "stdout",
          "text": [
            "LLM's claimed inverse: [[0.6, -0.7], [-0.2, 0.4]]\n",
            "✅ The LLM's inverse is correct!\n"
          ]
        }
      ]
    }
  ]
}