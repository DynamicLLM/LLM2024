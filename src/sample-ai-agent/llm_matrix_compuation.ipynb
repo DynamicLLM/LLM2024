{
  "nbformat": 4,
  "nbformat_minor": 0,
  "metadata": {
    "colab": {
      "provenance": [],
      "authorship_tag": "ABX9TyNRsxxndmpbaeb1HzmYZeeV",
      "include_colab_link": true
    },
    "kernelspec": {
      "name": "python3",
      "display_name": "Python 3"
    },
    "language_info": {
      "name": "python"
    }
  },
  "cells": [
    {
      "cell_type": "markdown",
      "metadata": {
        "id": "view-in-github",
        "colab_type": "text"
      },
      "source": [
        "<a href=\"https://colab.research.google.com/github/DynamicLLM/LLM2024/blob/main/src/sample-ai-agent/llm_matrix_compuation.ipynb\" target=\"_parent\"><img src=\"https://colab.research.google.com/assets/colab-badge.svg\" alt=\"Open In Colab\"/></a>"
      ]
    },
    {
      "cell_type": "markdown",
      "source": [
        "By defining multiple keys (matrix_data_1, matrix_data_2, etc.) in your function schema, the LLM can return as many distinct matrices (or other data) as you need. Each matrix is an array of arrays, so you can parse them separately and do further processing in Python. Meanwhile, you still get a LaTeX expression to show the user in a nicely formatted way."
      ],
      "metadata": {
        "id": "MPDExP6SbP69"
      }
    },
    {
      "cell_type": "markdown",
      "source": [
        "Creating and Using Your OpenAI API Key:\n",
        "\n",
        "To do this head to the OpenAI API Dashboard and create/login to an account. (https://platform.openai.com/assistants).\n",
        "After logging into an account, on the left side of the dashboard select ‘API Keys’.\n",
        "Next, click ‘Create new secret key’ in the top right corner of the page, from here you can create a name for your key, the project it is used for (if you have multiple keys and projects), and decide the permissions.\n",
        "After deciding the settings for your key, click ‘Create secret key’ in the bottom right of the menu.\n",
        "This will show your given key, make sure to copy your key and save it in a place of your choosing for later. This will be the only time you can access it. Afterwords, select ‘Done.’   \n",
        "\n",
        "You have to add at least 5 dollars to your account. In most case you probably use only less than dollar in the whole semester."
      ],
      "metadata": {
        "id": "dfdNUFkXO8bZ"
      }
    },
    {
      "cell_type": "code",
      "source": [
        "!pip install openai requests -q\n"
      ],
      "metadata": {
        "id": "M8nDyY-4PW8A"
      },
      "execution_count": 58,
      "outputs": []
    },
    {
      "cell_type": "code",
      "source": [
        "import openai\n",
        "import ast  # for safely evaluating Pythonic list representations (optional)\n",
        "import numpy as np  # to make matrix multiplication easier (optional)\n",
        "import json\n",
        "from openai import OpenAI\n",
        "\n",
        "client = OpenAI(\n",
        "    #replace your openai API key. Make sure keep the key in a safe place,  colab and github do not save your jpynb file with the actual key.\n",
        "    api_key=\"sk-pr**A\"\n",
        ")"
      ],
      "metadata": {
        "id": "Y-09KHsJPiPo"
      },
      "execution_count": 30,
      "outputs": []
    },
    {
      "cell_type": "code",
      "source": [
        "functions = [\n",
        "    {\n",
        "        \"name\": \"compute_matrices\",\n",
        "        \"description\": \"Return a LaTeX expression plus two separate matrices.\",\n",
        "        \"parameters\": {\n",
        "            \"type\": \"object\",\n",
        "            \"properties\": {\n",
        "                \"latex_expression\": {\n",
        "                    \"type\": \"string\",\n",
        "                    \"description\": \"LaTeX expression showing the math.\"\n",
        "                },\n",
        "                \"matrix_data_1\": {\n",
        "                    \"type\": \"array\",\n",
        "                    \"items\": {\n",
        "                        \"type\": \"array\",\n",
        "                        \"items\": {\"type\": \"number\"}\n",
        "                    },\n",
        "                    \"description\": \"First matrix as a 2D array.\"\n",
        "                },\n",
        "                \"matrix_data_2\": {\n",
        "                    \"type\": \"array\",\n",
        "                    \"items\": {\n",
        "                        \"type\": \"array\",\n",
        "                        \"items\": {\"type\": \"number\"}\n",
        "                    },\n",
        "                    \"description\": \"Second matrix as a 2D array.\"\n",
        "                }\n",
        "            },\n",
        "            \"required\": [\n",
        "                \"latex_expression\",\n",
        "                \"matrix_data_1\",\n",
        "                \"matrix_data_2\"\n",
        "            ]\n",
        "        }\n",
        "    }\n",
        "]\n",
        "\n"
      ],
      "metadata": {
        "id": "Y3MV43btUQmo"
      },
      "execution_count": 31,
      "outputs": []
    },
    {
      "cell_type": "code",
      "source": [
        "def get_two_matrices_latex(matA, matB):\n",
        "    \"\"\"\n",
        "    Ask the model to do some math with two matrices matA and matB,\n",
        "    returning a LaTeX expression plus the resulting two matrices.\n",
        "    \"\"\"\n",
        "    # Prompt example: let's say we want the LLM to add them, then also return the difference.\n",
        "    user_prompt = (\n",
        "        f\"Given two matrices A={matA} and B={matB}, compute A+B and A-B. \"\n",
        "        \"Return three things in JSON: 'latex_expression' showing the math, \"\n",
        "        \"'matrix_data_1' for A+B, and 'matrix_data_2' for A-B. \"\n",
        "        \"Use the function 'compute_matrices'.\"\n",
        "    )\n",
        "\n",
        "    response = client.chat.completions.create(\n",
        "        model=\"gpt-4o-mini\",  # or gpt-4\n",
        "        messages=[{\"role\": \"user\", \"content\": user_prompt}],\n",
        "        functions=functions,\n",
        "        function_call=\"auto\"\n",
        "    )\n",
        "\n",
        "    msg = response.choices[0].message\n",
        "\n",
        "    # If the LLM properly calls 'compute_matrices'\n",
        "    if msg.function_call:\n",
        "        arguments_str = msg.function_call.arguments\n",
        "        data = json.loads(arguments_str)  # parse the JSON\n",
        "        latex_expr = data[\"latex_expression\"]\n",
        "        matrix_1 = data[\"matrix_data_1\"]  # e.g. result of A+B\n",
        "        matrix_2 = data[\"matrix_data_2\"]  # e.g. result of A-B\n",
        "        return latex_expr, matrix_1, matrix_2\n",
        "    else:\n",
        "        return None, None, None\n"
      ],
      "metadata": {
        "id": "JQKaUghdioYt"
      },
      "execution_count": 34,
      "outputs": []
    },
    {
      "cell_type": "code",
      "source": [
        "\n",
        "matA = [[1,2],[3,4]]\n",
        "matB = [[5,6],[7,8]]\n",
        "latex, sum_mat, diff_mat = get_two_matrices_latex(matA, matB)\n",
        "print(\"LaTeX expression:\", latex)\n",
        "print(\"A+B:\", sum_mat)\n",
        "print(\"A-B:\", diff_mat)\n"
      ],
      "metadata": {
        "colab": {
          "base_uri": "https://localhost:8080/"
        },
        "id": "M45TOgYCiqJD",
        "outputId": "3defea2c-0a4f-4493-e96c-1b88bc5f8f25"
      },
      "execution_count": 35,
      "outputs": [
        {
          "output_type": "stream",
          "name": "stdout",
          "text": [
            "LaTeX expression: A + B = \\begin{pmatrix} 1 & 2 \\\\ 3 & 4 \\end{pmatrix} + \\begin{pmatrix} 5 & 6 \\\\ 7 & 8 \\end{pmatrix} = \\begin{pmatrix} 6 & 8 \\\\ 10 & 12 \\end{pmatrix}, \\quad A - B = \\begin{pmatrix} 1 & 2 \\\\ 3 & 4 \\end{pmatrix} - \\begin{pmatrix} 5 & 6 \\\\ 7 & 8 \\end{pmatrix} = \\begin{pmatrix} -4 & -4 \\\\ -4 & -4 \\end{pmatrix}\n",
            "A+B: [[6, 8], [10, 12]]\n",
            "A-B: [[-4, -4], [-4, -4]]\n"
          ]
        }
      ]
    }
  ]
}