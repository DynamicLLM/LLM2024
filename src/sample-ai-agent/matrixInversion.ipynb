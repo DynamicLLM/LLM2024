{
  "nbformat": 4,
  "nbformat_minor": 0,
  "metadata": {
    "colab": {
      "provenance": [],
      "authorship_tag": "ABX9TyO7LbqItUT/ekNTkXqGZOUw",
      "include_colab_link": true
    },
    "kernelspec": {
      "name": "python3",
      "display_name": "Python 3"
    },
    "language_info": {
      "name": "python"
    }
  },
  "cells": [
    {
      "cell_type": "markdown",
      "metadata": {
        "id": "view-in-github",
        "colab_type": "text"
      },
      "source": [
        "<a href=\"https://colab.research.google.com/github/DynamicLLM/LLM2024/blob/main/src/sample-ai-agent/matrixInversion.ipynb\" target=\"_parent\"><img src=\"https://colab.research.google.com/assets/colab-badge.svg\" alt=\"Open In Colab\"/></a>"
      ]
    },
    {
      "cell_type": "code",
      "execution_count": null,
      "metadata": {
        "id": "7Cc3lWgzPOzO"
      },
      "outputs": [],
      "source": []
    },
    {
      "cell_type": "markdown",
      "source": [
        "This simple example illustrates how you can integrate an LLM into a Python-based workflow to perform a mathematical task (matrix inversion) and then verify it with traditional computational methods. It also demonstrates how to prompt, parse, and validate LLM outputs, which is key to building robust AI applications.  Feel free to expand with additional logic, user interactions, or more sophisticated matrix problems."
      ],
      "metadata": {
        "id": "r4JEm9bQPUx5"
      }
    },
    {
      "cell_type": "code",
      "source": [
        "!pip install openai beautifulsoup4 requests -q\n"
      ],
      "metadata": {
        "id": "M8nDyY-4PW8A"
      },
      "execution_count": 52,
      "outputs": []
    },
    {
      "cell_type": "code",
      "source": [
        "import openai\n",
        "import ast  # for safely evaluating Pythonic list representations (optional)\n",
        "import numpy as np  # to make matrix multiplication easier (optional)\n",
        "from openai import OpenAI\n",
        "\n",
        "client = OpenAI(\n",
        "    api_key=\"sk-proj-cwA\"\n",
        ")\n"
      ],
      "metadata": {
        "id": "Y-09KHsJPiPo"
      },
      "execution_count": 53,
      "outputs": []
    },
    {
      "cell_type": "code",
      "source": [
        "import re\n",
        "import ast\n",
        "\n",
        "def extract_matrix_from_response(response_text):\n",
        "    \"\"\"\n",
        "    Extract the Python list-of-lists from a code block in the LLM response.\n",
        "    Returns a Python object (e.g., [[0.6, -0.7], [-0.2, 0.4]]) or None if not found.\n",
        "    \"\"\"\n",
        "    # Regex to capture text inside triple-backticks that immediately follow \"```python\"\n",
        "    match = re.search(r\"```python\\s+(.+?)\\s+```\", response_text, flags=re.DOTALL)\n",
        "    if match:\n",
        "        code_block = match.group(1)  # The text inside the ```python ... ```\n",
        "        try:\n",
        "            matrix = ast.literal_eval(code_block.strip())\n",
        "            return matrix\n",
        "        except Exception as e:\n",
        "            print(\"Error parsing code block:\", e)\n",
        "            return None\n",
        "    else:\n",
        "        return None\n"
      ],
      "metadata": {
        "id": "r5VzinKua8Up"
      },
      "execution_count": 54,
      "outputs": []
    },
    {
      "cell_type": "code",
      "source": [
        "def invert_matrix_with_llm(matrix_2x2):\n",
        "    \"\"\"\n",
        "    Ask the LLM to invert a 2x2 matrix and parse the response.\n",
        "\n",
        "    Args:\n",
        "        matrix_2x2 (list[list[float]]): A 2x2 matrix, e.g. [[1,2],[3,4]]\n",
        "\n",
        "    Returns:\n",
        "        list[list[float]]: The 2x2 inverted matrix returned by the LLM (if parsing succeeds),\n",
        "                           or None if there's an error.\n",
        "    \"\"\"\n",
        "    # Convert matrix to a string for the LLM\n",
        "    matrix_str = str(matrix_2x2)\n",
        "\n",
        "    prompt = f\"\"\"\n",
        "    You are a helpful AI. I have a 2x2 matrix: {matrix_str}.\n",
        "    Please compute its inverse.\n",
        "    Return the result in a Pythonic list-of-lists format, for example: [[x11, x12], [x21, x22]].\n",
        "    \"\"\"\n",
        "    print(\"Prompting LLM with:\", prompt)\n",
        "\n",
        "    try:\n",
        "        completion = client.chat.completions.create(\n",
        "            model=\"gpt-4o-mini\",   # Placeholder model name\n",
        "            store=True,           # Placeholder parameter\n",
        "            messages=[\n",
        "                {\"role\": \"user\", \"content\": prompt}\n",
        "            ]\n",
        "        )\n",
        "        response_text = completion.choices[0].message.content\n",
        "        print(\"LLM's response:\", response_text)\n",
        "        # Safely parse the result as a Python list\n",
        "        inverted_matrix = extract_matrix_from_response(response_text)\n",
        "        return inverted_matrix\n",
        "    except Exception as e:\n",
        "        print(\"Error in LLM inversion or parsing:\", e)\n",
        "        return None"
      ],
      "metadata": {
        "id": "E2thf9XePla4"
      },
      "execution_count": 55,
      "outputs": []
    },
    {
      "cell_type": "code",
      "source": [
        "def verify_inversion(original_matrix, candidate_inverse, tolerance=1e-7):\n",
        "    \"\"\"\n",
        "    Verify if candidate_inverse is indeed the inverse of original_matrix.\n",
        "\n",
        "    Args:\n",
        "        original_matrix (list[list[float]]): 2x2 matrix\n",
        "        candidate_inverse (list[list[float]]): 2x2 matrix (candidate inverse)\n",
        "        tolerance (float): numerical tolerance for identity check.\n",
        "\n",
        "    Returns:\n",
        "        bool: True if product is approximately the identity matrix, False otherwise.\n",
        "    \"\"\"\n",
        "    # Convert to numpy arrays\n",
        "    A = np.array(original_matrix, dtype=float)\n",
        "    A_inv_candidate = np.array(candidate_inverse, dtype=float)\n",
        "\n",
        "    # Matrix multiply\n",
        "    product = A.dot(A_inv_candidate)\n",
        "\n",
        "    # Identity matrix\n",
        "    I = np.eye(2)\n",
        "\n",
        "    # Check if difference from the identity is within tolerance\n",
        "    return np.allclose(product, I, atol=tolerance)\n"
      ],
      "metadata": {
        "id": "5E1-kMu_Pukp"
      },
      "execution_count": 56,
      "outputs": []
    },
    {
      "cell_type": "code",
      "source": [
        "# Define a sample 2x2 matrix\n",
        "matrix_2x2 = [[4, 7],\n",
        "              [2, 6]]\n",
        "\n",
        "# 1) LLM: Invert the matrix\n",
        "inverted_candidate = invert_matrix_with_llm(matrix_2x2)\n",
        "print(\"LLM's claimed inverse:\", inverted_candidate)\n",
        "\n",
        "# 2) Verify the candidate inverse\n",
        "if inverted_candidate is not None:\n",
        "    is_correct = verify_inversion(matrix_2x2, inverted_candidate)\n",
        "    if is_correct:\n",
        "        print(\"✅ The LLM's inverse is correct!\")\n",
        "    else:\n",
        "        print(\"❌ The LLM's inverse is NOT correct.\")\n"
      ],
      "metadata": {
        "colab": {
          "base_uri": "https://localhost:8080/"
        },
        "id": "z41HIAbiP0co",
        "outputId": "6c59cd09-9324-48e2-f69d-0b931ff306ae"
      },
      "execution_count": 57,
      "outputs": [
        {
          "output_type": "stream",
          "name": "stdout",
          "text": [
            "Prompting LLM with: \n",
            "    You are a helpful AI. I have a 2x2 matrix: [[4, 7], [2, 6]].\n",
            "    Please compute its inverse. \n",
            "    Return the result in a Pythonic list-of-lists format, for example: [[x11, x12], [x21, x22]].\n",
            "    \n",
            "LLM's response: To compute the inverse of a 2x2 matrix \\(\\begin{bmatrix} a & b \\\\ c & d \\end{bmatrix}\\), we use the formula for the inverse, which is given by:\n",
            "\n",
            "\\[\n",
            "\\text{Inverse} = \\frac{1}{ad - bc} \\begin{bmatrix} d & -b \\\\ -c & a \\end{bmatrix}\n",
            "\\]\n",
            "\n",
            "For the matrix \\(\\begin{bmatrix} 4 & 7 \\\\ 2 & 6 \\end{bmatrix}\\):\n",
            "\n",
            "- \\(a = 4\\)\n",
            "- \\(b = 7\\)\n",
            "- \\(c = 2\\)\n",
            "- \\(d = 6\\)\n",
            "\n",
            "First, we calculate the determinant:\n",
            "\n",
            "\\[\n",
            "ad - bc = (4)(6) - (7)(2) = 24 - 14 = 10\n",
            "\\]\n",
            "\n",
            "Now we can compute the inverse:\n",
            "\n",
            "\\[\n",
            "\\text{Inverse} = \\frac{1}{10} \\begin{bmatrix} 6 & -7 \\\\ -2 & 4 \\end{bmatrix} = \\begin{bmatrix} 0.6 & -0.7 \\\\ -0.2 & 0.4 \\end{bmatrix}\n",
            "\\]\n",
            "\n",
            "In Pythonic list-of-lists format, the inverse of the matrix is:\n",
            "\n",
            "```python\n",
            "[[0.6, -0.7], [-0.2, 0.4]]\n",
            "```\n",
            "LLM's claimed inverse: [[0.6, -0.7], [-0.2, 0.4]]\n",
            "✅ The LLM's inverse is correct!\n"
          ]
        }
      ]
    }
  ]
}